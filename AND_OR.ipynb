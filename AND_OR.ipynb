{
  "nbformat": 4,
  "nbformat_minor": 0,
  "metadata": {
    "colab": {
      "provenance": [],
      "authorship_tag": "ABX9TyNqfKh8ueLmF7vx8XJklY41",
      "include_colab_link": true
    },
    "kernelspec": {
      "name": "python3",
      "display_name": "Python 3"
    },
    "language_info": {
      "name": "python"
    }
  },
  "cells": [
    {
      "cell_type": "markdown",
      "metadata": {
        "id": "view-in-github",
        "colab_type": "text"
      },
      "source": [
        "<a href=\"https://colab.research.google.com/github/FelipeTZ25/Inteligencia_Artificial_Felipe/blob/main/AND_OR.ipynb\" target=\"_parent\"><img src=\"https://colab.research.google.com/assets/colab-badge.svg\" alt=\"Open In Colab\"/></a>"
      ]
    },
    {
      "cell_type": "markdown",
      "source": [
        "Practica AND y OR"
      ],
      "metadata": {
        "id": "m9T403RToHP8"
      }
    },
    {
      "cell_type": "code",
      "source": [
        "# 4Compuertas lógicas AND y OR\n",
        "\n",
        "# Función que simula la compuerta AND\n",
        "def compuerta_and(x0, x1):\n",
        "    return x0 and x1\n",
        "\n",
        "# Función que simula la compuerta OR\n",
        "def compuerta_or(x0, x1):\n",
        "    return x0 or x1\n",
        "\n",
        "# Función para solicitar valores de entrada (X0 y X1) al usuario\n",
        "def solicitar_valores():\n",
        "    while True:\n",
        "        try:\n",
        "            x0 = int(input(\"Introduce el valor para X0 (0 o 1): \"))\n",
        "            x1 = int(input(\"Introduce el valor para X1 (0 o 1): \"))\n",
        "\n",
        "            if x0 in [0, 1] and x1 in [0, 1]:\n",
        "                return x0, x1\n",
        "            else:\n",
        "                print(\"Por favor, introduce valores válidos (0 o 1).\")\n",
        "        except ValueError:\n",
        "            print(\"Entrada no válida. Introduce un número entero.\")\n",
        "\n",
        "# Función para mostrar los resultados de las compuertas AND y OR\n",
        "def mostrar_resultados(x0, x1):\n",
        "    resultado_and = compuerta_and(x0, x1)\n",
        "    resultado_or = compuerta_or(x0, x1)\n",
        "\n",
        "    print(f\"\\nResultados para X0 = {x0} y X1 = {x1}:\")\n",
        "    print(f\"Compuerta AND: {resultado_and}\")\n",
        "    print(f\"Compuerta OR: {resultado_or}\\n\")\n",
        "\n",
        "# Función para el menú interactivo\n",
        "def menu_interactivo():\n",
        "    while True:\n",
        "        print(\"\\n--- Simulador de Compuertas Lógicas AND y OR ---\")\n",
        "        x0, x1 = solicitar_valores()\n",
        "        mostrar_resultados(x0, x1)\n",
        "\n",
        "        continuar = input(\"¿Quieres introducir otro dataset? (s/n): \").lower()\n",
        "        if continuar != 's':\n",
        "            print(\"Saliendo del programa. ¡Hasta luego!\")\n",
        "            break\n",
        "\n",
        "# Llamada al menú interactivo\n",
        "menu_interactivo()"
      ],
      "metadata": {
        "id": "qrtvi384cdhQ",
        "colab": {
          "base_uri": "https://localhost:8080/"
        },
        "outputId": "b3d86e26-5e31-4ed7-e8d7-f7f62822bf18"
      },
      "execution_count": null,
      "outputs": [
        {
          "output_type": "stream",
          "name": "stdout",
          "text": [
            "\n",
            "--- Simulador de Compuertas Lógicas AND y OR ---\n",
            "Introduce el valor para X0 (0 o 1): 1\n",
            "Introduce el valor para X1 (0 o 1): 0\n",
            "\n",
            "Resultados para X0 = 1 y X1 = 0:\n",
            "Compuerta AND: 0\n",
            "Compuerta OR: 1\n",
            "\n"
          ]
        }
      ]
    }
  ]
}